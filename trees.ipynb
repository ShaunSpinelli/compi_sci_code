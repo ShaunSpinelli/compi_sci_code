{
 "cells": [
  {
   "cell_type": "code",
   "execution_count": null,
   "metadata": {
    "id": "YJZPWmHYFQ0d"
   },
   "outputs": [],
   "source": []
  },
  {
   "cell_type": "markdown",
   "metadata": {
    "id": "iD7U9EyLIUpK"
   },
   "source": [
    "![img](https://media.geeksforgeeks.org/wp-content/uploads/20230623123129/traversal.png)"
   ]
  },
  {
   "cell_type": "code",
   "execution_count": 1,
   "metadata": {
    "executionInfo": {
     "elapsed": 249,
     "status": "ok",
     "timestamp": 1710272508832,
     "user": {
      "displayName": "Shaun Spinelli",
      "userId": "08424770078246654486"
     },
     "user_tz": 240
    },
    "id": "db-EB731FMkg"
   },
   "outputs": [],
   "source": [
    "class BinaryNode:\n",
    "    def __init__(self, key):\n",
    "        self.left = None\n",
    "        self.right = None\n",
    "        self.val = key"
   ]
  },
  {
   "cell_type": "code",
   "execution_count": 2,
   "metadata": {
    "executionInfo": {
     "elapsed": 3,
     "status": "ok",
     "timestamp": 1710271757633,
     "user": {
      "displayName": "Shaun Spinelli",
      "userId": "08424770078246654486"
     },
     "user_tz": 240
    },
    "id": "KVUzxLK0Ibb-"
   },
   "outputs": [],
   "source": [
    "root = BinaryNode(1)\n",
    "root.left = BinaryNode(2)\n",
    "root.right = BinaryNode(3)\n",
    "root.left.left = BinaryNode(4)\n",
    "root.left.right = BinaryNode(5)\n",
    "root.right.left = BinaryNode(6)\n",
    "root.right.right = BinaryNode(7)"
   ]
  },
  {
   "cell_type": "code",
   "execution_count": 3,
   "metadata": {
    "executionInfo": {
     "elapsed": 230,
     "status": "ok",
     "timestamp": 1710271951254,
     "user": {
      "displayName": "Shaun Spinelli",
      "userId": "08424770078246654486"
     },
     "user_tz": 240
    },
    "id": "GBJNk5Y7I_p9"
   },
   "outputs": [],
   "source": [
    "# Pre-order tranvesal\n",
    "def pre_order_trav(node):\n",
    "  if node is not None:\n",
    "    print(node.val, end=' ')\n",
    "    pre_order_trav(node.left)\n",
    "    pre_order_trav(node.right)"
   ]
  },
  {
   "cell_type": "code",
   "execution_count": 4,
   "metadata": {
    "executionInfo": {
     "elapsed": 271,
     "status": "ok",
     "timestamp": 1710272579150,
     "user": {
      "displayName": "Shaun Spinelli",
      "userId": "08424770078246654486"
     },
     "user_tz": 240
    },
    "id": "7ZFsK-EHJi5-"
   },
   "outputs": [],
   "source": [
    "def in_order_trav(node):\n",
    "  if node is not None:\n",
    "    in_order_trav(node.left)\n",
    "    print(node.val, end=' ')\n",
    "    in_order_trav(node.right)"
   ]
  },
  {
   "cell_type": "code",
   "execution_count": 5,
   "metadata": {
    "executionInfo": {
     "elapsed": 254,
     "status": "ok",
     "timestamp": 1710272296283,
     "user": {
      "displayName": "Shaun Spinelli",
      "userId": "08424770078246654486"
     },
     "user_tz": 240
    },
    "id": "cI6_ceVTKRWO"
   },
   "outputs": [],
   "source": [
    "def post_order_trav(node):\n",
    "  if node is not None:\n",
    "    post_order_trav(node.left)\n",
    "    post_order_trav(node.right)\n",
    "    print(node.val, end=' ')"
   ]
  },
  {
   "cell_type": "code",
   "execution_count": 27,
   "metadata": {
    "colab": {
     "base_uri": "https://localhost:8080/"
    },
    "executionInfo": {
     "elapsed": 193,
     "status": "ok",
     "timestamp": 1710272163781,
     "user": {
      "displayName": "Shaun Spinelli",
      "userId": "08424770078246654486"
     },
     "user_tz": 240
    },
    "id": "3YlJRkQSKgJm",
    "outputId": "59e5342e-7829-410c-93d5-8e1522b30e7d"
   },
   "outputs": [
    {
     "name": "stdout",
     "output_type": "stream",
     "text": [
      "20 10 6 5 4 3 1 "
     ]
    }
   ],
   "source": [
    "in_order_trav(root)"
   ]
  },
  {
   "cell_type": "code",
   "execution_count": 68,
   "metadata": {},
   "outputs": [],
   "source": [
    "## Binary Search Tree\n",
    "\n",
    "# LHS is smallest number\n",
    "\n",
    "## Implement insertion\n",
    "\n",
    "def insert(node, value):\n",
    "    if node is None: return BinaryNode(value)\n",
    "    if node.val <= value: node.left = insert(node.left, value)\n",
    "    if node.val > value:node.right = insert(node.right, value)\n",
    "    return node\n"
   ]
  },
  {
   "cell_type": "code",
   "execution_count": 69,
   "metadata": {},
   "outputs": [],
   "source": [
    "root = BinaryNode(1)"
   ]
  },
  {
   "cell_type": "code",
   "execution_count": 70,
   "metadata": {},
   "outputs": [
    {
     "data": {
      "text/plain": [
       "<__main__.BinaryNode at 0x7ff0f2697850>"
      ]
     },
     "execution_count": 70,
     "metadata": {},
     "output_type": "execute_result"
    }
   ],
   "source": [
    "insert(root, 3)\n",
    "insert(root, 4)\n",
    "insert(root, 6)\n",
    "insert(root, 10)\n",
    "insert(root, 20)\n",
    "insert(root, 5)"
   ]
  },
  {
   "cell_type": "code",
   "execution_count": 71,
   "metadata": {},
   "outputs": [
    {
     "name": "stdout",
     "output_type": "stream",
     "text": [
      "20 10 6 5 4 3 1 "
     ]
    }
   ],
   "source": [
    "in_order_trav(root)"
   ]
  },
  {
   "cell_type": "code",
   "execution_count": 72,
   "metadata": {},
   "outputs": [],
   "source": [
    "## Implement find\n",
    "def find(node, value):\n",
    "    # if node is equal to value then we've found the node\n",
    "    if node.val == value: return \"Found\"\n",
    "\n",
    "    # Go left\n",
    "    if node.val < value: \n",
    "        if node.left is None: return \"Not Found\"\n",
    "        return find(node.left, value)\n",
    "    \n",
    "    # Go Right\n",
    "    if node.val > value: \n",
    "        if node.right is None: return \"Not Found\"\n",
    "        return find(node.right, value)\n"
   ]
  },
  {
   "cell_type": "code",
   "execution_count": 75,
   "metadata": {},
   "outputs": [
    {
     "data": {
      "text/plain": [
       "'Not Found'"
      ]
     },
     "execution_count": 75,
     "metadata": {},
     "output_type": "execute_result"
    }
   ],
   "source": [
    "find(root, 6222)"
   ]
  },
  {
   "cell_type": "code",
   "execution_count": 50,
   "metadata": {},
   "outputs": [],
   "source": [
    "## Delete\n"
   ]
  },
  {
   "cell_type": "code",
   "execution_count": null,
   "metadata": {},
   "outputs": [],
   "source": []
  }
 ],
 "metadata": {
  "colab": {
   "authorship_tag": "ABX9TyOjPFdedw3/MSBR/5BrGBYT",
   "provenance": []
  },
  "kernelspec": {
   "display_name": "Python 3 (ipykernel)",
   "language": "python",
   "name": "python3"
  },
  "language_info": {
   "codemirror_mode": {
    "name": "ipython",
    "version": 3
   },
   "file_extension": ".py",
   "mimetype": "text/x-python",
   "name": "python",
   "nbconvert_exporter": "python",
   "pygments_lexer": "ipython3",
   "version": "3.11.6"
  }
 },
 "nbformat": 4,
 "nbformat_minor": 4
}
