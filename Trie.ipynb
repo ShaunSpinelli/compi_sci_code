{
 "cells": [
  {
   "cell_type": "code",
   "execution_count": 68,
   "id": "2c47c77b-c9d4-4c20-8c42-dc5b0ad66384",
   "metadata": {},
   "outputs": [],
   "source": [
    "class Node:\n",
    "    def __init__(self, val):\n",
    "        self.val = val\n",
    "        self.nodes = []\n",
    "\n",
    "    def insert(self, word):\n",
    "        if word == '':\n",
    "            print(f\"End node {self.val} adding *\")\n",
    "            if \"*\" not in [n.val for n in self.nodes]:\n",
    "                self.nodes.append(Node('*'))\n",
    "            return\n",
    "\n",
    "        if len(self.nodes) == 0: \n",
    "            # print(f\"No Nodes on {self.val}: Adding {word[0]}\")\n",
    "            self.nodes.append(Node(word[0]))\n",
    "\n",
    "        for n in self.nodes:\n",
    "            if n.val == word[0]: \n",
    "                n.insert(word[1:])\n",
    "                return\n",
    "\n",
    "        # print(f\"Add new node  {word[0]} onto {self.val}\")\n",
    "        new_node = Node(word[0])\n",
    "        print(f\"Adding new node {word[0]} next is {word[1:]}\")\n",
    "        new_node.insert(word[1:])\n",
    "        self.nodes.append(Node(word[0]))\n",
    "\n",
    "    def search(self, word, substring=False):\n",
    "        if word == '':\n",
    "            # look for termination char '*'\n",
    "            print(\"got terminatiog\", [n.val for n in self.nodes])\n",
    "            if substring:\n",
    "                return True\n",
    "            return (\"*\" in [n.val for n in self.nodes])\n",
    "            \n",
    "        for n in self.nodes:\n",
    "            print(f\"{n.val}, {word[0]}\")\n",
    "            if n.val == word[0]:\n",
    "                return n.search(word[1:], substring)\n",
    "\n",
    "        return False\n",
    "\n",
    "    def print(self):\n",
    "        v = [n.print() for n in self.nodes]\n",
    "        return self.values\n",
    "        "
   ]
  },
  {
   "cell_type": "code",
   "execution_count": 69,
   "id": "562cd1d1-05a8-49de-9b4b-0e86fed739b7",
   "metadata": {},
   "outputs": [],
   "source": [
    "class Trie:\n",
    "\n",
    "    def __init__(self):\n",
    "        self.root_nodes = []\n",
    "\n",
    "    def insert(self, word: str) -> None:\n",
    "\n",
    "        if len(self.root_nodes) == 0:\n",
    "            # print(f\"First node {word[0]}\")\n",
    "            self.root_nodes.append(Node(word[0]))\n",
    "\n",
    "        for n in self.root_nodes:\n",
    "            if n.val == word[0]: \n",
    "                n.insert(word[1:])\n",
    "                return # early return\n",
    "\n",
    "        new_node = Node(word[0])\n",
    "        # print(f\"New Root node {word[0]}\")\n",
    "        new_node.insert(word[1:])\n",
    "        self.root_nodes.append(new_node)\n",
    "  \n",
    "\n",
    "    def search(self, word: str) -> bool:\n",
    "        for n in self.root_nodes:\n",
    "            if n.val == word[0]:\n",
    "                # print(f\"{n.val}, {word[0]}\")\n",
    "                return n.search(word[1:])\n",
    "\n",
    "        return False\n",
    "\n",
    "    def startsWith(self, prefix: str) -> bool:\n",
    "        for n in self.root_nodes:\n",
    "            if n.val == prefix[0]:\n",
    "                # print(f\"{n.val}, {prefix[0]}\")\n",
    "                return n.search(prefix[1:], True)\n",
    "\n",
    "        return False\n",
    "        \n"
   ]
  },
  {
   "cell_type": "code",
   "execution_count": 70,
   "id": "2986de24-86e9-4d55-bb8a-389c2c23db22",
   "metadata": {},
   "outputs": [
    {
     "name": "stdout",
     "output_type": "stream",
     "text": [
      "End node c adding *\n"
     ]
    }
   ],
   "source": [
    "word = \"abc\"\n",
    "obj = Trie()\n",
    "obj.insert(word)\n",
    "\n",
    "# param_2 = obj.search(word)\n",
    "# param_3 = obj.startsWith(prefix)"
   ]
  },
  {
   "cell_type": "code",
   "execution_count": 71,
   "id": "7ce719f9-9b17-463c-a69d-41aba50e2399",
   "metadata": {},
   "outputs": [
    {
     "name": "stdout",
     "output_type": "stream",
     "text": [
      "b, b\n",
      "c, c\n",
      "got terminatiog ['*']\n"
     ]
    },
    {
     "data": {
      "text/plain": [
       "True"
      ]
     },
     "execution_count": 71,
     "metadata": {},
     "output_type": "execute_result"
    }
   ],
   "source": [
    "obj.search(\"abc\")"
   ]
  },
  {
   "cell_type": "code",
   "execution_count": 72,
   "id": "0c1e6e93-93ec-495d-81f1-c1efd7bed07e",
   "metadata": {},
   "outputs": [
    {
     "name": "stdout",
     "output_type": "stream",
     "text": [
      "b, p\n"
     ]
    },
    {
     "data": {
      "text/plain": [
       "False"
      ]
     },
     "execution_count": 72,
     "metadata": {},
     "output_type": "execute_result"
    }
   ],
   "source": [
    "obj.startsWith(\"app\")"
   ]
  },
  {
   "cell_type": "code",
   "execution_count": 73,
   "id": "be4b8fae-b0eb-4443-9f48-109542f8808c",
   "metadata": {
    "scrolled": true
   },
   "outputs": [
    {
     "data": {
      "text/plain": [
       "False"
      ]
     },
     "execution_count": 73,
     "metadata": {},
     "output_type": "execute_result"
    }
   ],
   "source": [
    "obj.startsWith(\"park\")"
   ]
  },
  {
   "cell_type": "code",
   "execution_count": 74,
   "id": "8fe74339-f627-4aca-80c1-3b0eeea0f90b",
   "metadata": {},
   "outputs": [
    {
     "name": "stdout",
     "output_type": "stream",
     "text": [
      "End node d adding *\n"
     ]
    }
   ],
   "source": [
    "obj.insert(\"parked\")"
   ]
  },
  {
   "cell_type": "code",
   "execution_count": 75,
   "id": "9eaa4730-075c-458d-a066-b4d7d48d8f3d",
   "metadata": {},
   "outputs": [],
   "source": [
    "## Leet Code testing"
   ]
  },
  {
   "cell_type": "code",
   "execution_count": 76,
   "id": "9252a594-c0d7-4612-9e90-d7c976794c6a",
   "metadata": {},
   "outputs": [],
   "source": [
    "obj = Trie()"
   ]
  },
  {
   "cell_type": "code",
   "execution_count": 77,
   "id": "b89289f2-b9f1-4080-8ea4-9b4eb340dcf7",
   "metadata": {},
   "outputs": [],
   "source": [
    "actions = [\"insert\",\"search\",\"search\",\"startsWith\",\"startsWith\",\"insert\",\"search\",\"startsWith\",\"insert\",\"search\",\"startsWith\"]"
   ]
  },
  {
   "cell_type": "code",
   "execution_count": 78,
   "id": "8e7e49fc-098e-452c-9571-18f54472e3cb",
   "metadata": {},
   "outputs": [],
   "source": [
    "params = [\"ab\",\"abc\",\"ab\",\"abc\",\"ab\",\"ab\",\"abc\",\"abc\",\"abc\",\"abc\",\"abc\"]"
   ]
  },
  {
   "cell_type": "code",
   "execution_count": 79,
   "id": "dd2a33d9-df32-4631-bf77-355c30d8f5e1",
   "metadata": {},
   "outputs": [],
   "source": [
    "exp = [None,False,True,False,True,None,False,False,None,True,True]"
   ]
  },
  {
   "cell_type": "code",
   "execution_count": 80,
   "id": "62a109f6-f7c8-4019-adaa-884aae93df7e",
   "metadata": {
    "scrolled": true
   },
   "outputs": [
    {
     "name": "stdout",
     "output_type": "stream",
     "text": [
      "End node b adding *\n",
      "action -> insert - ab: result: None\n",
      "b, b\n",
      "*, c\n",
      "action -> search - abc: result: False\n",
      "b, b\n",
      "got terminatiog ['*']\n",
      "action -> search - ab: result: True\n",
      "b, b\n",
      "*, c\n",
      "action -> startsWith - abc: result: False\n",
      "b, b\n",
      "got terminatiog ['*']\n",
      "action -> startsWith - ab: result: True\n",
      "End node b adding *\n",
      "action -> insert - ab: result: None\n",
      "b, b\n",
      "*, c\n",
      "action -> search - abc: result: False\n",
      "b, b\n",
      "*, c\n",
      "action -> startsWith - abc: result: False\n",
      "Adding new node c next is \n",
      "End node c adding *\n",
      "action -> insert - abc: result: None\n",
      "b, b\n",
      "*, c\n",
      "c, c\n",
      "got terminatiog []\n",
      "action -> search - abc: result: False\n",
      "b, b\n",
      "*, c\n",
      "c, c\n",
      "got terminatiog []\n",
      "action -> startsWith - abc: result: True\n"
     ]
    }
   ],
   "source": [
    "for fn, args in zip(actions, params):\n",
    "    x = getattr(obj,fn)(args)\n",
    "    print(f\"action -> {fn} - {args}: result: {x}\")\n"
   ]
  },
  {
   "cell_type": "code",
   "execution_count": 81,
   "id": "6d10f372-9d04-41be-b194-02e6b17785a1",
   "metadata": {},
   "outputs": [
    {
     "name": "stdout",
     "output_type": "stream",
     "text": [
      "b, b\n",
      "*, c\n",
      "c, c\n",
      "got terminatiog []\n"
     ]
    },
    {
     "data": {
      "text/plain": [
       "False"
      ]
     },
     "execution_count": 81,
     "metadata": {},
     "output_type": "execute_result"
    }
   ],
   "source": [
    "obj.search(\"abc\")"
   ]
  },
  {
   "cell_type": "code",
   "execution_count": 91,
   "id": "b5057361-1c88-489d-a864-323f665361c4",
   "metadata": {},
   "outputs": [
    {
     "data": {
      "text/plain": [
       "[]"
      ]
     },
     "execution_count": 91,
     "metadata": {},
     "output_type": "execute_result"
    }
   ],
   "source": [
    "obj.root_nodes[0].nodes[0].nodes[1].nodes\n"
   ]
  },
  {
   "cell_type": "code",
   "execution_count": null,
   "id": "e812f67b-259e-4d11-a99f-f0e311ffa13d",
   "metadata": {},
   "outputs": [],
   "source": [
    "class Trie:\n",
    "\n",
    "    def __init__(self):\n",
    "\n",
    "    def insert(self, word: str) -> None:\n",
    "\n",
    "\n",
    "    def search(self, word: str) -> bool:\n",
    "\n",
    "    def startsWith(self, prefix: str) -> bool:\n"
   ]
  }
 ],
 "metadata": {
  "kernelspec": {
   "display_name": "Python 3 (ipykernel)",
   "language": "python",
   "name": "python3"
  },
  "language_info": {
   "codemirror_mode": {
    "name": "ipython",
    "version": 3
   },
   "file_extension": ".py",
   "mimetype": "text/x-python",
   "name": "python",
   "nbconvert_exporter": "python",
   "pygments_lexer": "ipython3",
   "version": "3.11.6"
  }
 },
 "nbformat": 4,
 "nbformat_minor": 5
}
