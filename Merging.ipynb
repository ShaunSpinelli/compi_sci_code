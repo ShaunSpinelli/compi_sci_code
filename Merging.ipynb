{
 "cells": [
  {
   "cell_type": "code",
   "execution_count": 1,
   "id": "7d2585f5-c69c-4f60-89ca-c59222c3c46c",
   "metadata": {},
   "outputs": [],
   "source": [
    "#Let compute the effceincy then try make O(n+m)"
   ]
  },
  {
   "cell_type": "markdown",
   "id": "9888741a-38fc-4b13-bdb0-6fd68cd09bd7",
   "metadata": {},
   "source": [
    "To solve this problem in O(m + n) time, you can use a technique similar to the merge step of the merge sort algorithm.\n",
    "\n",
    "Here's how you can do it:\n",
    "\n",
    "    Initialize three pointers:\n",
    "        p1 to point at the last element of nums1 (the last non-zero element).\n",
    "        p2 to point at the last element of nums2.\n",
    "        p to point at the end of nums1 (m + n - 1).\n",
    "\n",
    "    Loop until p2 becomes less than 0:\n",
    "        Check if the element at nums1[p1] is greater than the element at nums2[p2].\n",
    "            If it is, assign nums1[p] to nums1[p1], decrement p1, and decrement p.\n",
    "            If it's not, assign nums1[p] to nums2[p2], decrement p2, and decrement p.\n",
    "\n",
    "    After the loop ends, if there are still elements left in nums2 (i.e., p2 >= 0), copy those elements into nums1 from index 0 to p2+1.\n",
    "\n",
    "This algorithm iterates through both arrays exactly once, hence it's O(m + n) time complexity.\n",
    "\n",
    "[ChatGPT - explanataion](https://chat.openai.com/share/5b92a443-c589-4851-a609-a169ff843487)"
   ]
  },
  {
   "cell_type": "code",
   "execution_count": null,
   "id": "5ab4343e-5dee-4515-aa36-10e1491f4c55",
   "metadata": {},
   "outputs": [],
   "source": [
    "\n",
    "\n",
    "def merge(nums1, m, nums2, n):\n",
    "    p1 = m-1 # last elment of m1\n",
    "    p2 = n-1 # last elment of nums 2\n",
    "    p = m+n-1 # vey end\n",
    "    \n",
    "    print(nums1)\n",
    "    for idx in range(p-1):\n",
    "        if nums1[p1] > nums2[p2]:\n",
    "            nums1[p] = nums1[p1]\n",
    "            p1 = p1 - 1\n",
    "            p =  p -1\n",
    "        else:\n",
    "            nums1[p] = nums2[p2]\n",
    "            p2 = p2 - 1\n",
    "            p = p - 1\n",
    "        print(nums1)\n",
    "            \n",
    "    if p2 >= 0:\n",
    "        for i in range(0, p2+1):\n",
    "            nums1[i] = nums2[p2-i]\n",
    "            print(\"need to add more stuff\")\n"
   ]
  },
  {
   "cell_type": "code",
   "execution_count": 174,
   "id": "841fa465-fb5d-4cfa-ad0a-c719f349d826",
   "metadata": {},
   "outputs": [],
   "source": [
    "nums1 = [-1,0,0,3,3,3,0,0,0] ; m = 6; nums2 = [1,2,2]; n = 3"
   ]
  },
  {
   "cell_type": "code",
   "execution_count": 175,
   "id": "f84d94eb-66c0-4bc3-9996-e6db2c20e634",
   "metadata": {},
   "outputs": [],
   "source": [
    "expected = [1,2,2,3,5,6]"
   ]
  },
  {
   "cell_type": "code",
   "execution_count": 176,
   "id": "d8e656c1-1ae2-4cf7-a536-2af6826331f0",
   "metadata": {},
   "outputs": [
    {
     "name": "stdout",
     "output_type": "stream",
     "text": [
      "[-1, 0, 0, 3, 3, 3, 0, 0, 0]\n",
      "[-1, 0, 0, 3, 3, 3, 0, 0, 3]\n",
      "[-1, 0, 0, 3, 3, 3, 0, 3, 3]\n",
      "[-1, 0, 0, 3, 3, 3, 3, 3, 3]\n",
      "[-1, 0, 0, 3, 3, 2, 3, 3, 3]\n",
      "[-1, 0, 0, 3, 2, 2, 3, 3, 3]\n",
      "[-1, 0, 0, 1, 2, 2, 3, 3, 3]\n",
      "[-1, 0, 2, 1, 2, 2, 3, 3, 3]\n"
     ]
    }
   ],
   "source": [
    "merge(nums1, m, nums2, n)"
   ]
  },
  {
   "cell_type": "code",
   "execution_count": 169,
   "id": "e7247e39-d06b-43b9-80fb-593ac0d32112",
   "metadata": {},
   "outputs": [
    {
     "data": {
      "text/plain": [
       "[1, 2, 2, 3, 5, 6]"
      ]
     },
     "execution_count": 169,
     "metadata": {},
     "output_type": "execute_result"
    }
   ],
   "source": [
    "nums1"
   ]
  },
  {
   "cell_type": "code",
   "execution_count": 170,
   "id": "2d64df1a-b401-4ff1-8b0c-6a9e8ad826be",
   "metadata": {},
   "outputs": [],
   "source": [
    "nums1 = [0]; m = 0; nums2 = [1]; n = 1"
   ]
  },
  {
   "cell_type": "code",
   "execution_count": 171,
   "id": "3de0baa3-1dda-4e19-b5f5-b554018c374b",
   "metadata": {},
   "outputs": [
    {
     "name": "stdout",
     "output_type": "stream",
     "text": [
      "[0]\n",
      "need to add more stuff\n"
     ]
    }
   ],
   "source": [
    "merge(nums1, m, nums2, n)"
   ]
  },
  {
   "cell_type": "code",
   "execution_count": 172,
   "id": "4d826be4-fd70-4488-a80c-2252b13894b0",
   "metadata": {},
   "outputs": [
    {
     "data": {
      "text/plain": [
       "[1]"
      ]
     },
     "execution_count": 172,
     "metadata": {},
     "output_type": "execute_result"
    }
   ],
   "source": [
    "nums1"
   ]
  },
  {
   "cell_type": "code",
   "execution_count": null,
   "id": "a28c0736-5a20-4c36-81d4-57fc56ba561e",
   "metadata": {},
   "outputs": [],
   "source": []
  },
  {
   "cell_type": "code",
   "execution_count": null,
   "id": "04f293c8-481a-45cd-bc0c-c24f9b0c459b",
   "metadata": {},
   "outputs": [],
   "source": [
    "# SLOW BOY\n",
    "# for idx1,i in enumerate(nums2):\n",
    "#     for idx2,j in enumerate(nums1):\n",
    "#         if i <= j:\n",
    "#             # shift everything +1 from idx\n",
    "#             for nidx in range(1, (m+n)-idx2):\n",
    "#                 print(nums1)    \n",
    "#                 nums1[-nidx] = nums1[-(nidx+1)]\n",
    "#             # then\n",
    "              \n",
    "#             nums1[idx2] = i\n",
    "#             print(f\"insert {i} before {j}\")\n",
    "#             break\n",
    "#         if j == 0 and idx2 >= m + idx1:\n",
    "#             nums1[idx2] = i\n",
    "#             print(f\"insert {i} at end\")\n",
    "#             break"
   ]
  }
 ],
 "metadata": {
  "kernelspec": {
   "display_name": "Python 3 (ipykernel)",
   "language": "python",
   "name": "python3"
  },
  "language_info": {
   "codemirror_mode": {
    "name": "ipython",
    "version": 3
   },
   "file_extension": ".py",
   "mimetype": "text/x-python",
   "name": "python",
   "nbconvert_exporter": "python",
   "pygments_lexer": "ipython3",
   "version": "3.11.6"
  }
 },
 "nbformat": 4,
 "nbformat_minor": 5
}
